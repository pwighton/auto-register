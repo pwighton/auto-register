{
 "cells": [
  {
   "cell_type": "code",
   "execution_count": 1,
   "id": "f8514ccc",
   "metadata": {},
   "outputs": [],
   "source": [
    "import numpy as np\n",
    "import nibabel as nb\n",
    "from scipy.spatial.transform import Rotation as rotation"
   ]
  },
  {
   "cell_type": "code",
   "execution_count": 2,
   "id": "cb940577",
   "metadata": {},
   "outputs": [],
   "source": [
    "# calc_transforms():\n",
    "\n",
    "# Given\n",
    "#   - A nibable img as returned by nb.load()\n",
    "# Compute\n",
    "#   - The vox2ras matrix (this is simply img.affine)\n",
    "#   - The grad2ras matrix (mri_info calls this xform info)\n",
    "#   - See mri.cpp:12818\n",
    "def calc_transforms(img):\n",
    "    vox2ras = np.copy(img.affine)\n",
    "    grad2ras = np.copy(vox2ras)\n",
    "\n",
    "    # - pixdims is same as xsize, ysize, zsize in mri.cpp:12818 \n",
    "    # - c is same as c_r, c_a, c_s in mri.cpp:12818\n",
    "    # - use of 1:4 here is probably fragile\n",
    "    pixdims = img.header['pixdim'][1:4]\n",
    "    c = img.header['dim'][1:4] / 2\n",
    "\n",
    "    grad2ras[0:3,0:3] = vox2ras[0:3,0:3] / pixdims\n",
    "    grad2ras[0:3,3]   = vox2ras[0:3,3]   + vox2ras[0:3,0:3] @ c\n",
    "\n",
    "    return vox2ras, grad2ras"
   ]
  },
  {
   "cell_type": "code",
   "execution_count": 3,
   "id": "e3f8760e",
   "metadata": {},
   "outputs": [],
   "source": [
    "# calc_aa():\n",
    "\n",
    "# Given:\n",
    "#  - An image taken with a particular FOV: which gives\n",
    "#    - V2R: A VOX2RAS matrix (4x4)\n",
    "#    - G2R: A GRAD2RAS matrix (4x4; xform info)\n",
    "#  - An alignment vector along 0th, 1st or 2nd dimension\n",
    "#    - align:\n",
    "#    - polarity: 1 or -1\n",
    "#  - 2 voxel coordinates of that image;\n",
    "#    - p1_vox: where you'd like the origin for the new FOV to be (4x1)\n",
    "#    - p2_vox: a point you would like alinged with sag/cor/tra (4x1)\n",
    "#    \n",
    "# Compute:\n",
    "#  - A transformation that when applied to G2R (G2R * T or T * G2R?) results in\n",
    "#    - T_ras2ras: A RAS2RAS trasform (4x4), such that\n",
    "#      - T * p1_ras = [0,0,0,1]\n",
    "#      - T * p2_ras is parrallel to a_ras \n",
    "#    - T_lps2lps: Same transform, but in lps2lps\n",
    "#\n",
    "# We know\n",
    "#  - R2L: A RAS to LPS conversion matrix\n",
    "#  - We can convert points or vectors:\n",
    "#    - p_ras = VOX2RAS * p_vox\n",
    "#    - p_vox = inv(VOX2RAS) * p_ras\n",
    "#  - There are infite translations T that exits, we aribtrarily pick one\n",
    "#    - There's probably a smarter way to constrain to get a unique solution\n",
    "\n",
    "def calc_aa(img_filename, p1_vox4, p2_vox4, align_dim=0, polarity=1):\n",
    "\n",
    "    # converts from ras2lps and vice versa (note that R2L == inv(R2L) )\n",
    "    R2L            = np.array([[-1,  0, 0, 0],\n",
    "                               [ 0, -1, 0, 0],\n",
    "                               [ 0,  0, 1, 0],\n",
    "                               [ 0,  0, 0, 1]], dtype=np.float64)\n",
    "    polarity_flip3 = np.array([[-1,  0, 0],\n",
    "                               [ 0, -1, 0],\n",
    "                               [ 0,  0, -1]], dtype=np.float64)\n",
    "\n",
    "    img = nb.load(img_filename)\n",
    "    V2R, G2R = calc_transforms(img)\n",
    "    \n",
    "    p1_ras4 = V2R @ p1_vox4\n",
    "    p2_ras4 = V2R @ p2_vox4\n",
    "\n",
    "    p1_ras3 = p1_ras4[0:3]\n",
    "    p2_ras3 = p2_ras4[0:3]\n",
    "    \n",
    "    # The primary vector to align with\n",
    "    q1_ras3 = (p2_ras3 - p1_ras3) / np.linalg.norm(p2_ras3 - p1_ras3)\n",
    "    if polarity < 0:\n",
    "        q1_ras3 = polarity_flip3 @ q1_ras3\n",
    "    \n",
    "    # Find other 2 arbitrary (but deterministic) ortho vectors\n",
    "    # to build our space\n",
    "    # This wont work if the vector we cross with is the zero vector,\n",
    "    # so choose the point with the larger norm as the arb vector\n",
    "    if (np.linalg.norm(p1_ras3) > np.linalg.norm(p2_ras3)):\n",
    "        q2_ras3 = np.cross(q1_ras3.T, p1_ras3.T).T / np.linalg.norm(np.cross(q1_ras3.T, p1_ras3.T).T)\n",
    "    else:\n",
    "        q2_ras3 = np.cross(q1_ras3.T, p2_ras3.T).T / np.linalg.norm(np.cross(q1_ras3.T, p2_ras3.T).T)\n",
    "    q3_ras3 = np.cross(q1_ras3.T, q2_ras3.T).T\n",
    "    \n",
    "    if align_dim == 0:\n",
    "        rot = np.linalg.inv(np.hstack((q1_ras3,q2_ras3,q3_ras3)))\n",
    "    elif align_dim == 1:\n",
    "        rot = np.linalg.inv(np.hstack((q2_ras3,q1_ras3,q3_ras3)))\n",
    "    else:\n",
    "        rot = np.linalg.inv(np.hstack((q2_ras3,q3_ras3,q1_ras3)))\n",
    "    \n",
    "    close_enough = 1e-12\n",
    "    if (np.linalg.det(rot) - 1.0) > close_enough:\n",
    "        print(f\"WARNING: det(rot) is {np.linalg.det(rot)}, should be 1.0\", )\n",
    "    \n",
    "    trans = -1 * (rot @ p1_ras3)\n",
    "    T_ras2ras = np.eye(4)\n",
    "    T_ras2ras[0:3,0:3] = rot\n",
    "    T_ras2ras[0:3,3] = trans.ravel()\n",
    "    \n",
    "    # See registered_image.py:133\n",
    "    #    `T = np.dot(np.dot(flip, T), flip)`\n",
    "    # Note that registered_image.py:133 only works becuase flip==inv(flip)\n",
    "    # here we use the more general formula\n",
    "    T_lps2lps = R2L @ T_ras2ras @ np.linalg.inv(R2L)\n",
    "    \n",
    "    return T_ras2ras, T_lps2lps"
   ]
  },
  {
   "cell_type": "code",
   "execution_count": 4,
   "id": "10451d49",
   "metadata": {},
   "outputs": [],
   "source": [
    "# Convert a 4x4 numpy matrix representing a transform to string\n",
    "# To be used with the --trans flag of auto_register.py\n",
    "def trans2str(trans):\n",
    "    close_enough = 1e-12\n",
    "    if (np.linalg.det(trans[0:3,0:3]) - 1.0) > close_enough:\n",
    "        print(f\"WARNING: det(trans[0:3,0:3]) is {np.linalg.det(trans[0:3,0:3])}, should be 1.0\")\n",
    "\n",
    "    trans_1d = T_l2l.ravel()\n",
    "    trans_str = ''\n",
    "    for i in trans_1d:\n",
    "        trans_str += str(i) + ' '\n",
    "    return trans_str"
   ]
  },
  {
   "cell_type": "code",
   "execution_count": 16,
   "id": "09091b87",
   "metadata": {},
   "outputs": [],
   "source": [
    "# Wrapper around calc_aa() for all possible dim/polarity combinations\n",
    "def calc_all_aas(img_filename, p1_vox4, p2_vox4):\n",
    "    dim_polarity = np.array([[0, 1],\n",
    "                             [0,-1],\n",
    "                             [1, 1],\n",
    "                             [1,-1],\n",
    "                             [2, 1],\n",
    "                             [2,-1]], dtype=np.int32)\n",
    "    \n",
    "    for i in range(dim_polarity.shape[0]):\n",
    "        dim=dim_polarity[i,0]\n",
    "        pol=dim_polarity[i,1]\n",
    "        print(f'Running with dim={dim} and pol={pol}:')\n",
    "        T_r2r, T_l2l = calc_aa(img_filename, p1_vox, p2_vox, align_dim=dim, polarity=pol)\n",
    "        T_rot = rotation.from_matrix(T_r2r[0:3,0:3])\n",
    "        T_angle = np.linalg.norm(T_rot.as_rotvec(degrees=True))\n",
    "        T_l2l_string = trans2str(T_l2l)\n",
    "        print('T_r2r:')\n",
    "        print(T_r2r)\n",
    "        print('T_l2l:')\n",
    "        print(T_l2l)\n",
    "        print('T_l2l as a string (for `auto_register.py -trans`)')\n",
    "        print(T_l2l_string)\n",
    "        print(f'The angle of T is {T_angle} degrees')\n",
    "        print('-------------------------------------------------------')"
   ]
  },
  {
   "cell_type": "code",
   "execution_count": 7,
   "id": "d78adbe2",
   "metadata": {},
   "outputs": [],
   "source": [
    "img_filename = '/home/paul/lcn/20230427-bay2-areg-v2-test/img-00000.nii.gz'\n",
    "\n",
    "img = nb.load(img_filename)\n",
    "vox2ras, grad2ras = calc_transforms(img)\n",
    "\n",
    "# Using double brackets [[]] here so that the 1-d vector is transposable\n",
    "#   - https://stackoverflow.com/a/10546291\n",
    "# This is so silly, numpy.. It's bad enough that np.matrix got deprecated \n",
    "# but now you make us do this shit..\n",
    "\n",
    "# tip of nose on head phantom\n",
    "p1_vox = np.array([[3, 46, 31, 1]]).T\n",
    "\n",
    "# gap at back of head phantom\n",
    "p2_vox = np.array([[51, 38, 31, 1]]).T\n",
    "\n",
    "p1_ras = vox2ras @ p1_vox\n",
    "p2_ras = vox2ras @ p2_vox"
   ]
  },
  {
   "cell_type": "markdown",
   "id": "f6234ac8",
   "metadata": {},
   "source": [
    "## Validate"
   ]
  },
  {
   "cell_type": "code",
   "execution_count": 8,
   "id": "7e71f3d0",
   "metadata": {},
   "outputs": [
    {
     "name": "stdout",
     "output_type": "stream",
     "text": [
      "p1_vox: [[ 3 46 31  1]]\n",
      "p1_ras: [[  2. 116. -56.   1.]]\n",
      "p2_vox: [[51 38 31  1]]\n",
      "p2_ras: [[  2. -76. -24.   1.]]\n"
     ]
    }
   ],
   "source": [
    "# Use freeview to verify ras/vox coords conversion\n",
    "print(\"p1_vox:\", p1_vox.T) \n",
    "print(\"p1_ras:\", p1_ras.T)\n",
    "print(\"p2_vox:\", p2_vox.T) \n",
    "print(\"p2_ras:\", p2_ras.T)"
   ]
  },
  {
   "cell_type": "code",
   "execution_count": 9,
   "id": "11f4baf8",
   "metadata": {},
   "outputs": [
    {
     "name": "stdout",
     "output_type": "stream",
     "text": [
      "p1_ras_new: [[-5.32907052e-15  0.00000000e+00  7.10542736e-15  1.00000000e+00]]\n",
      "p2_ras_new: [[ 1.94648401e+02  0.00000000e+00 -3.55271368e-15  1.00000000e+00]]\n",
      "p1 is at origin?:    True\n",
      "p2 is along x-axis?: True\n"
     ]
    }
   ],
   "source": [
    "# Make p1_vox at origin; make p2_vox somewhere along x-axis (positive dir)\n",
    "T_r2r, T_l2l = calc_aa(img_filename, p1_vox, p2_vox, align_dim=0)\n",
    "# After applying T_r2r to p1_ras and p2_ras, we get:\n",
    "#   - p1_ras_new\n",
    "#   - p2_ras_new\n",
    "p1_ras_new = T_r2r @ p1_ras\n",
    "p2_ras_new = T_r2r @ p2_ras\n",
    "\n",
    "print(\"p1_ras_new:\", p1_ras_new.T)\n",
    "print(\"p2_ras_new:\", p2_ras_new.T)\n",
    "\n",
    "close_enough = 1e-12\n",
    "x_axis3 = np.array([[1.0,0.0,0.0]]).T\n",
    "origin = np.array([[0.0,0.0,0.0,1.0]]).T\n",
    "\n",
    "is_p1_ras_new_at_origin = np.all((p1_ras_new - origin) < close_enough)\n",
    "# If 2 vectors are nearly parallel, their cross product is nearly zero\n",
    "is_p2_ras_new_parallel_to_x_axis = np.linalg.norm(np.cross(p2_ras_new[0:3].T,x_axis3.T)) < close_enough\n",
    "\n",
    "print(\"p1 is at origin?:   \", is_p1_ras_new_at_origin)\n",
    "print(\"p2 is along x-axis?:\", is_p2_ras_new_parallel_to_x_axis)"
   ]
  },
  {
   "cell_type": "code",
   "execution_count": 10,
   "id": "b40434f5",
   "metadata": {},
   "outputs": [
    {
     "name": "stdout",
     "output_type": "stream",
     "text": [
      "p1_ras_new: [[5.32907052e-15 0.00000000e+00 7.10542736e-15 1.00000000e+00]]\n",
      "p2_ras_new: [[-1.94648401e+02  0.00000000e+00 -3.55271368e-15  1.00000000e+00]]\n"
     ]
    }
   ],
   "source": [
    "# Make p1_vox at origin; make p2_vox somewhere along x-axis (negative dir)\n",
    "T_r2r, T_l2l = calc_aa(img_filename, p1_vox, p2_vox, polarity=-1)\n",
    "\n",
    "p1_ras_new = T_r2r @ p1_ras\n",
    "p2_ras_new = T_r2r @ p2_ras\n",
    "\n",
    "print(\"p1_ras_new:\", p1_ras_new.T)\n",
    "print(\"p2_ras_new:\", p2_ras_new.T)"
   ]
  },
  {
   "cell_type": "code",
   "execution_count": 11,
   "id": "a67e3b9f",
   "metadata": {},
   "outputs": [
    {
     "name": "stdout",
     "output_type": "stream",
     "text": [
      "p1_ras_new: [[ 0.00000000e+00 -5.32907052e-15  7.10542736e-15  1.00000000e+00]]\n",
      "p2_ras_new: [[ 0.00000000e+00  1.94648401e+02 -3.55271368e-15  1.00000000e+00]]\n"
     ]
    }
   ],
   "source": [
    "# Make p1_vox at origin; make p2_vox somewhere along y-axis (positive dir)\n",
    "T_r2r, T_l2l = calc_aa(img_filename, p1_vox, p2_vox, align_dim=1)\n",
    "\n",
    "p1_ras_new = T_r2r @ p1_ras\n",
    "p2_ras_new = T_r2r @ p2_ras\n",
    "\n",
    "print(\"p1_ras_new:\", p1_ras_new.T)\n",
    "print(\"p2_ras_new:\", p2_ras_new.T)"
   ]
  },
  {
   "cell_type": "code",
   "execution_count": 12,
   "id": "3e06d44e",
   "metadata": {},
   "outputs": [
    {
     "name": "stdout",
     "output_type": "stream",
     "text": [
      "p1_ras_new: [[0.00000000e+00 5.32907052e-15 7.10542736e-15 1.00000000e+00]]\n",
      "p2_ras_new: [[ 0.00000000e+00 -1.94648401e+02 -3.55271368e-15  1.00000000e+00]]\n"
     ]
    }
   ],
   "source": [
    "# Make p1_vox at origin; make p2_vox somewhere along y-axis (negative dir)\n",
    "T_r2r, T_l2l = calc_aa(img_filename, p1_vox, p2_vox, align_dim=1, polarity=-1)\n",
    "\n",
    "p1_ras_new = T_r2r @ p1_ras\n",
    "p2_ras_new = T_r2r @ p2_ras\n",
    "\n",
    "print(\"p1_ras_new:\", p1_ras_new.T)\n",
    "print(\"p2_ras_new:\", p2_ras_new.T)"
   ]
  },
  {
   "cell_type": "code",
   "execution_count": 13,
   "id": "084c630c",
   "metadata": {},
   "outputs": [
    {
     "name": "stdout",
     "output_type": "stream",
     "text": [
      "p1_ras_new: [[ 0.00000000e+00  7.10542736e-15 -1.77635684e-15  1.00000000e+00]]\n",
      "p2_ras_new: [[7.77156117e-16 3.55271368e-15 1.94648401e+02 1.00000000e+00]]\n"
     ]
    }
   ],
   "source": [
    "# Make p1_vox at origin; make p2_vox somewhere along z-axis (positive dir)\n",
    "T_r2r, T_l2l = calc_aa(img_filename, p1_vox, p2_vox, align_dim=2, polarity=1)\n",
    "\n",
    "p1_ras_new = T_r2r @ p1_ras\n",
    "p2_ras_new = T_r2r @ p2_ras\n",
    "\n",
    "print(\"p1_ras_new:\", p1_ras_new.T)\n",
    "print(\"p2_ras_new:\", p2_ras_new.T)"
   ]
  },
  {
   "cell_type": "code",
   "execution_count": 14,
   "id": "54676ae1",
   "metadata": {},
   "outputs": [
    {
     "name": "stdout",
     "output_type": "stream",
     "text": [
      "p1_ras_new: [[0.00000000e+00 7.10542736e-15 1.77635684e-15 1.00000000e+00]]\n",
      "p2_ras_new: [[-7.77156117e-16  3.55271368e-15 -1.94648401e+02  1.00000000e+00]]\n"
     ]
    }
   ],
   "source": [
    "# Make p1_vox at origin; make p2_vox somewhere along z-axis (negative dir)\n",
    "T_r2r, T_l2l = calc_aa(img_filename, p1_vox, p2_vox, align_dim=2, polarity=-1)\n",
    "\n",
    "p1_ras_new = T_r2r @ p1_ras\n",
    "p2_ras_new = T_r2r @ p2_ras\n",
    "\n",
    "print(\"p1_ras_new:\", p1_ras_new.T)\n",
    "print(\"p2_ras_new:\", p2_ras_new.T)"
   ]
  },
  {
   "cell_type": "code",
   "execution_count": 17,
   "id": "5a25f8ed",
   "metadata": {},
   "outputs": [
    {
     "name": "stdout",
     "output_type": "stream",
     "text": [
      "Running with dim=0 and pol=1:\n",
      "T_r2r:\n",
      "[[-0.00000000e+00 -9.86393924e-01  1.64398987e-01  1.23628038e+02]\n",
      " [ 9.98474572e-01  9.07704156e-03  5.44622494e-02 -0.00000000e+00]\n",
      " [-5.52134883e-02  1.64148208e-01  9.84889251e-01  3.62230328e+01]\n",
      " [ 0.00000000e+00  0.00000000e+00  0.00000000e+00  1.00000000e+00]]\n",
      "T_l2l:\n",
      "[[ 0.00000000e+00 -9.86393924e-01 -1.64398987e-01 -1.23628038e+02]\n",
      " [ 9.98474572e-01  9.07704156e-03 -5.44622494e-02  0.00000000e+00]\n",
      " [ 5.52134883e-02 -1.64148208e-01  9.84889251e-01  3.62230328e+01]\n",
      " [ 0.00000000e+00  0.00000000e+00  0.00000000e+00  1.00000000e+00]]\n",
      "T_l2l as a string (for `auto_register.py -trans`)\n",
      "-0.9984745718892402 -0.009077041562629453 0.05446224937577673 4.440892098500626e-16 -0.05521348830312205 0.1641482084687412 -0.9848892508124474 -36.22303283972932 1.0681541315875595e-18 -0.9863939238321436 -0.16439898730535726 -123.62803845362866 0.0 0.0 0.0 1.0 \n",
      "The angle of T is 90.17285325306398 degrees\n",
      "-------------------------------------------------------\n",
      "Running with dim=0 and pol=-1:\n",
      "T_r2r:\n",
      "[[ 0.00000000e+00  9.86393924e-01 -1.64398987e-01 -1.23628038e+02]\n",
      " [-9.98474572e-01 -9.07704156e-03 -5.44622494e-02 -0.00000000e+00]\n",
      " [-5.52134883e-02  1.64148208e-01  9.84889251e-01  3.62230328e+01]\n",
      " [ 0.00000000e+00  0.00000000e+00  0.00000000e+00  1.00000000e+00]]\n",
      "T_l2l:\n",
      "[[ 0.00000000e+00  9.86393924e-01  1.64398987e-01  1.23628038e+02]\n",
      " [-9.98474572e-01 -9.07704156e-03  5.44622494e-02  0.00000000e+00]\n",
      " [ 5.52134883e-02 -1.64148208e-01  9.84889251e-01  3.62230328e+01]\n",
      " [ 0.00000000e+00  0.00000000e+00  0.00000000e+00  1.00000000e+00]]\n",
      "T_l2l as a string (for `auto_register.py -trans`)\n",
      "-0.9984745718892402 -0.009077041562629453 0.05446224937577673 4.440892098500626e-16 -0.05521348830312205 0.1641482084687412 -0.9848892508124474 -36.22303283972932 1.0681541315875595e-18 -0.9863939238321436 -0.16439898730535726 -123.62803845362866 0.0 0.0 0.0 1.0 \n",
      "The angle of T is 90.69294605554684 degrees\n",
      "-------------------------------------------------------\n",
      "Running with dim=1 and pol=1:\n",
      "T_r2r:\n",
      "[[ 9.98474572e-01  9.07704156e-03  5.44622494e-02 -0.00000000e+00]\n",
      " [-0.00000000e+00 -9.86393924e-01  1.64398987e-01  1.23628038e+02]\n",
      " [-5.52134883e-02  1.64148208e-01  9.84889251e-01  3.62230328e+01]\n",
      " [ 0.00000000e+00  0.00000000e+00  0.00000000e+00  1.00000000e+00]]\n",
      "T_l2l:\n",
      "[[ 9.98474572e-01  9.07704156e-03 -5.44622494e-02  0.00000000e+00]\n",
      " [ 0.00000000e+00 -9.86393924e-01 -1.64398987e-01 -1.23628038e+02]\n",
      " [ 5.52134883e-02 -1.64148208e-01  9.84889251e-01  3.62230328e+01]\n",
      " [ 0.00000000e+00  0.00000000e+00  0.00000000e+00  1.00000000e+00]]\n",
      "T_l2l as a string (for `auto_register.py -trans`)\n",
      "-0.9984745718892402 -0.009077041562629453 0.05446224937577673 4.440892098500626e-16 -0.05521348830312205 0.1641482084687412 -0.9848892508124474 -36.22303283972932 1.0681541315875595e-18 -0.9863939238321436 -0.16439898730535726 -123.62803845362866 0.0 0.0 0.0 1.0 \n",
      "The angle of T is 179.98563143103308 degrees\n",
      "-------------------------------------------------------\n",
      "Running with dim=1 and pol=-1:\n",
      "T_r2r:\n",
      "[[-9.98474572e-01 -9.07704156e-03 -5.44622494e-02 -0.00000000e+00]\n",
      " [ 0.00000000e+00  9.86393924e-01 -1.64398987e-01 -1.23628038e+02]\n",
      " [-5.52134883e-02  1.64148208e-01  9.84889251e-01  3.62230328e+01]\n",
      " [ 0.00000000e+00  0.00000000e+00  0.00000000e+00  1.00000000e+00]]\n",
      "T_l2l:\n",
      "[[-9.98474572e-01 -9.07704156e-03  5.44622494e-02  0.00000000e+00]\n",
      " [ 0.00000000e+00  9.86393924e-01  1.64398987e-01  1.23628038e+02]\n",
      " [ 5.52134883e-02 -1.64148208e-01  9.84889251e-01  3.62230328e+01]\n",
      " [ 0.00000000e+00  0.00000000e+00  0.00000000e+00  1.00000000e+00]]\n",
      "T_l2l as a string (for `auto_register.py -trans`)\n",
      "-0.9984745718892402 -0.009077041562629453 0.05446224937577673 4.440892098500626e-16 -0.05521348830312205 0.1641482084687412 -0.9848892508124474 -36.22303283972932 1.0681541315875595e-18 -0.9863939238321436 -0.16439898730535726 -123.62803845362866 0.0 0.0 0.0 1.0 \n",
      "The angle of T is 179.95695717904505 degrees\n",
      "-------------------------------------------------------\n",
      "Running with dim=2 and pol=1:\n",
      "T_r2r:\n",
      "[[ 9.98474572e-01  9.07704156e-03  5.44622494e-02  4.44089210e-16]\n",
      " [-5.52134883e-02  1.64148208e-01  9.84889251e-01  3.62230328e+01]\n",
      " [ 1.06815413e-18 -9.86393924e-01  1.64398987e-01  1.23628038e+02]\n",
      " [ 0.00000000e+00  0.00000000e+00  0.00000000e+00  1.00000000e+00]]\n",
      "T_l2l:\n",
      "[[ 9.98474572e-01  9.07704156e-03 -5.44622494e-02 -4.44089210e-16]\n",
      " [-5.52134883e-02  1.64148208e-01 -9.84889251e-01 -3.62230328e+01]\n",
      " [-1.06815413e-18  9.86393924e-01  1.64398987e-01  1.23628038e+02]\n",
      " [ 0.00000000e+00  0.00000000e+00  0.00000000e+00  1.00000000e+00]]\n",
      "T_l2l as a string (for `auto_register.py -trans`)\n",
      "-0.9984745718892402 -0.009077041562629453 0.05446224937577673 4.440892098500626e-16 -0.05521348830312205 0.1641482084687412 -0.9848892508124474 -36.22303283972932 1.0681541315875595e-18 -0.9863939238321436 -0.16439898730535726 -123.62803845362866 0.0 0.0 0.0 1.0 \n",
      "The angle of T is 80.58926039927316 degrees\n",
      "-------------------------------------------------------\n",
      "Running with dim=2 and pol=-1:\n",
      "T_r2r:\n",
      "[[-9.98474572e-01 -9.07704156e-03 -5.44622494e-02 -4.44089210e-16]\n",
      " [-5.52134883e-02  1.64148208e-01  9.84889251e-01  3.62230328e+01]\n",
      " [-1.06815413e-18  9.86393924e-01 -1.64398987e-01 -1.23628038e+02]\n",
      " [ 0.00000000e+00  0.00000000e+00  0.00000000e+00  1.00000000e+00]]\n",
      "T_l2l:\n",
      "[[-9.98474572e-01 -9.07704156e-03  5.44622494e-02  4.44089210e-16]\n",
      " [-5.52134883e-02  1.64148208e-01 -9.84889251e-01 -3.62230328e+01]\n",
      " [ 1.06815413e-18 -9.86393924e-01 -1.64398987e-01 -1.23628038e+02]\n",
      " [ 0.00000000e+00  0.00000000e+00  0.00000000e+00  1.00000000e+00]]\n",
      "T_l2l as a string (for `auto_register.py -trans`)\n",
      "-0.9984745718892402 -0.009077041562629453 0.05446224937577673 4.440892098500626e-16 -0.05521348830312205 0.1641482084687412 -0.9848892508124474 -36.22303283972932 1.0681541315875595e-18 -0.9863939238321436 -0.16439898730535726 -123.62803845362866 0.0 0.0 0.0 1.0 \n",
      "The angle of T is 177.9543042064388 degrees\n",
      "-------------------------------------------------------\n"
     ]
    }
   ],
   "source": [
    "calc_all_aas(img_filename,p1_vox,p2_vox)"
   ]
  },
  {
   "cell_type": "code",
   "execution_count": null,
   "id": "2f4d35fc",
   "metadata": {},
   "outputs": [],
   "source": []
  }
 ],
 "metadata": {
  "kernelspec": {
   "display_name": "Python 3 (ipykernel)",
   "language": "python",
   "name": "python3"
  },
  "language_info": {
   "codemirror_mode": {
    "name": "ipython",
    "version": 3
   },
   "file_extension": ".py",
   "mimetype": "text/x-python",
   "name": "python",
   "nbconvert_exporter": "python",
   "pygments_lexer": "ipython3",
   "version": "3.8.12"
  }
 },
 "nbformat": 4,
 "nbformat_minor": 5
}
